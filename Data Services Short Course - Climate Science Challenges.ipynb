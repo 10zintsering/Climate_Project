{
 "cells": [
  {
   "cell_type": "markdown",
   "metadata": {
    "collapsed": true,
    "slideshow": {
     "slide_type": "slide"
    }
   },
   "source": [
    "<img src=\"img/logos_combined.png\" alt=\"EarthServer-logo\" align=\"right\" width=\"40%\"  border=\"4\">\n",
    "<br><br><br><br>\n",
    "\n",
    "\n",
    "\n",
    "# WCS for Climate Sciences\n",
    "## Creating a Climate Graph for Vienna\n",
    "\n",
    "\n",
    "### Julia Wagemann"
   ]
  },
  {
   "cell_type": "markdown",
   "metadata": {
    "slideshow": {
     "slide_type": "slide"
    }
   },
   "source": [
    "A climate graph is commonly used to describe the average weather of one specific location. It contains:\n",
    "* the <b>long-term average, minimum and maximum air temperature</b> for each month\n",
    "* the <b>long-term average precipitation</b> for each month\n",
    "<br>\n",
    "<br>\n",
    "<img src=\"img/climate_graph_vienna.png\" alt=\"Climate_graph_Vienna\" align=\"center\" width=\"80%\"  border=\"4\">\n"
   ]
  },
  {
   "cell_type": "markdown",
   "metadata": {
    "slideshow": {
     "slide_type": "slide"
    }
   },
   "source": [
    "## Data required \n",
    "<br>\n",
    "<b> ERA-Interim reanalysis - 2m air temperature and total precipitation from 1 January 1979 to 31 December 2014</b>\n",
    "* <b>Format: <a font-color=\"blue\">GRIB</a></b>\n",
    "* <b>Spatial resolution: <a font-color=\"blue\">Lat/Lon grid, 0.5 x 0.5 degrees, 720 x 361 gridpoints</a></b>\n",
    "* <b>Temporal resolution: <a font-color=\"blue\">6-hourly</a></b>\n",
    "* <b>Data volume: <a font-color=\"blue\">27 GB per parameter</a></b>\n"
   ]
  },
  {
   "cell_type": "markdown",
   "metadata": {
    "slideshow": {
     "slide_type": "slide"
    }
   },
   "source": [
    "## Workflow\n",
    "<br>\n",
    "\n",
    "<b>(1) Retrieve monthly mean, min and max 2m air temperature from Jan 1979 to Dec 2014</b> \n",
    "<br>\n",
    "\n",
    "<b>(2) Retrieve monthly sums of total precipitation from Jan 1979 to Dec 2014</b>\n",
    "<br>\n",
    "\n",
    "<b>(3) Calculate averages for every month for every parameter</b>\n",
    "<br>\n",
    "\n",
    "<b>(4) Plot the climate graph</b>\n"
   ]
  },
  {
   "cell_type": "markdown",
   "metadata": {
    "slideshow": {
     "slide_type": "slide"
    }
   },
   "source": [
    "## Preparations\n",
    "\n",
    "### Load required libraries"
   ]
  },
  {
   "cell_type": "code",
   "execution_count": 1,
   "metadata": {
    "collapsed": true,
    "slideshow": {
     "slide_type": "-"
    }
   },
   "outputs": [],
   "source": [
    "%matplotlib inline\n",
    "import requests\n",
    "import numpy as np\n",
    "import matplotlib.pyplot as plt\n",
    "from datetime import datetime, timedelta\n",
    "from dateutil.relativedelta import relativedelta\n",
    "import pandas"
   ]
  },
  {
   "cell_type": "markdown",
   "metadata": {
    "slideshow": {
     "slide_type": "slide"
    }
   },
   "source": [
    "### Helper functions"
   ]
  },
  {
   "cell_type": "code",
   "execution_count": 2,
   "metadata": {
    "collapsed": true
   },
   "outputs": [],
   "source": [
    "# A list for every first day in the month from Jan 1979 to Dec 2016\n",
    "startDateList = list((range(456)))\n",
    "x =datetime(1979,1,1,0)\n",
    "for i in range(0,len(startDateList)):\n",
    "    startDateList[i]=x\n",
    "    x=(x.replace(day=1)+timedelta(days=31)).replace(day=1)\n",
    "\n",
    "# A list with every last day of the month from Jan 1979 to Dec 2014\n",
    "endDateList = list((range(456)))\n",
    "for i in range(0, len(endDateList)):\n",
    "    y = startDateList[i].replace(hour=18) + relativedelta(day=31)\n",
    "    endDateList[i]=y\n",
    "\n",
    "startDateListISO=list((range(456)))\n",
    "for i in range(0,len(startDateListISO)):\n",
    "    startDateListISO[i]=startDateList[i].date().isoformat()"
   ]
  },
  {
   "cell_type": "markdown",
   "metadata": {
    "slideshow": {
     "slide_type": "slide"
    }
   },
   "source": [
    "## Define the WCPS query\n",
    "\n",
    "With one WCPS request,\n",
    "* the <b>data can be converted into a different unit</b>, e.g. from Kelvin to degree Celsius, and\n",
    "* a <b>mathematical condenser</b>, e.g. average, minimum or maximum, can be applied to the data values retrieved"
   ]
  },
  {
   "cell_type": "code",
   "execution_count": 3,
   "metadata": {
    "collapsed": true
   },
   "outputs": [],
   "source": [
    "# WCPS query format for 2m air temperature (conversion of Kelvin to degree Celsius)\n",
    "url_fmt_temp = 'http://earthserver.ecmwf.int/rasdaman/ows?service=WCS&version=2.0.1&request=ProcessCoverages&query=for c in (%s) return encode(%s(c[Lat(%f:%f), Long(%f:%f),ansi(\"%s\":\"%s\")] - 273.15), \"csv\")'\n",
    "\n",
    "# WCPS query format for total precipitation (conversion from m of water to mm of water)\n",
    "url_fmt_precip = 'http://earthserver.ecmwf.int/rasdaman/ows?service=WCS&version=2.0.1&request=ProcessCoverages&query=for c in (%s) return encode(%s(c[Lat(%f:%f), Long(%f:%f),ansi(\"%s\":\"%s\")] * 1000), \"csv\")'"
   ]
  },
  {
   "cell_type": "markdown",
   "metadata": {
    "slideshow": {
     "slide_type": "slide"
    }
   },
   "source": [
    "## Function to retrieve data from the Web Coverage Service\n"
   ]
  },
  {
   "cell_type": "code",
   "execution_count": 4,
   "metadata": {
    "collapsed": true
   },
   "outputs": [],
   "source": [
    "# Function that retrieves for every month all data values from the WCS server and appends the outputs to a python list\n",
    "def retrieveFromWCS(param, operation, latMin, latMax, lonMin, lonMax):\n",
    "    if param==\"precipitation\":\n",
    "        startDateList[0]=startDateList[0] + timedelta(days=1)\n",
    "        query = url_fmt_precip\n",
    "    else:\n",
    "        query = url_fmt_temp\n",
    "    \n",
    "    monthlyTS = []\n",
    "    for i,j in zip(startDateList,endDateList):\n",
    "        url = query % (param, operation, latMin,latMax,lonMin,lonMax,\n",
    "                       i.isoformat(),j.isoformat())\n",
    "        print (url)\n",
    "        r= requests.get(url,\n",
    "                proxies={'http':None}\n",
    "                )\n",
    "\n",
    "        r.raise_for_status()\n",
    "        y= [float(a) for a in r.text[0:-1].split(\",\")]\n",
    "        monthlyTS.append(y[0])\n",
    "    return monthlyTS"
   ]
  },
  {
   "cell_type": "markdown",
   "metadata": {
    "slideshow": {
     "slide_type": "slide"
    }
   },
   "source": [
    "### Workflow step (1): <br>\n",
    "\n",
    "## <a font-color=\"blue\">Retrieve average, minimum and maximum surface temperature for Vienna for every month</a>"
   ]
  },
  {
   "cell_type": "code",
   "execution_count": 5,
   "metadata": {
    "slideshow": {
     "slide_type": "-"
    }
   },
   "outputs": [
    {
     "name": "stdout",
     "output_type": "stream",
     "text": [
      "http://earthserver.ecmwf.int/rasdaman/ows?service=WCS&version=2.0.1&request=ProcessCoverages&query=for c in (temp2m) return encode(avg(c[Lat(48.200000:48.200000), Long(16.200000:16.200000),ansi(\"1979-01-01T00:00:00\":\"1979-01-31T18:00:00\")] - 273.15), \"csv\")\n",
      "http://earthserver.ecmwf.int/rasdaman/ows?service=WCS&version=2.0.1&request=ProcessCoverages&query=for c in (temp2m) return encode(avg(c[Lat(48.200000:48.200000), Long(16.200000:16.200000),ansi(\"1979-02-01T00:00:00\":\"1979-02-28T18:00:00\")] - 273.15), \"csv\")\n",
      "http://earthserver.ecmwf.int/rasdaman/ows?service=WCS&version=2.0.1&request=ProcessCoverages&query=for c in (temp2m) return encode(avg(c[Lat(48.200000:48.200000), Long(16.200000:16.200000),ansi(\"1979-03-01T00:00:00\":\"1979-03-31T18:00:00\")] - 273.15), \"csv\")\n",
      "http://earthserver.ecmwf.int/rasdaman/ows?service=WCS&version=2.0.1&request=ProcessCoverages&query=for c in (temp2m) return encode(avg(c[Lat(48.200000:48.200000), Long(16.200000:16.200000),ansi(\"1979-04-01T00:00:00\":\"1979-04-30T18:00:00\")] - 273.15), \"csv\")\n",
      "http://earthserver.ecmwf.int/rasdaman/ows?service=WCS&version=2.0.1&request=ProcessCoverages&query=for c in (temp2m) return encode(avg(c[Lat(48.200000:48.200000), Long(16.200000:16.200000),ansi(\"1979-05-01T00:00:00\":\"1979-05-31T18:00:00\")] - 273.15), \"csv\")\n",
      "http://earthserver.ecmwf.int/rasdaman/ows?service=WCS&version=2.0.1&request=ProcessCoverages&query=for c in (temp2m) return encode(avg(c[Lat(48.200000:48.200000), Long(16.200000:16.200000),ansi(\"1979-06-01T00:00:00\":\"1979-06-30T18:00:00\")] - 273.15), \"csv\")\n",
      "http://earthserver.ecmwf.int/rasdaman/ows?service=WCS&version=2.0.1&request=ProcessCoverages&query=for c in (temp2m) return encode(avg(c[Lat(48.200000:48.200000), Long(16.200000:16.200000),ansi(\"1979-07-01T00:00:00\":\"1979-07-31T18:00:00\")] - 273.15), \"csv\")\n",
      "http://earthserver.ecmwf.int/rasdaman/ows?service=WCS&version=2.0.1&request=ProcessCoverages&query=for c in (temp2m) return encode(avg(c[Lat(48.200000:48.200000), Long(16.200000:16.200000),ansi(\"1979-08-01T00:00:00\":\"1979-08-31T18:00:00\")] - 273.15), \"csv\")\n",
      "http://earthserver.ecmwf.int/rasdaman/ows?service=WCS&version=2.0.1&request=ProcessCoverages&query=for c in (temp2m) return encode(avg(c[Lat(48.200000:48.200000), Long(16.200000:16.200000),ansi(\"1979-09-01T00:00:00\":\"1979-09-30T18:00:00\")] - 273.15), \"csv\")\n",
      "http://earthserver.ecmwf.int/rasdaman/ows?service=WCS&version=2.0.1&request=ProcessCoverages&query=for c in (temp2m) return encode(avg(c[Lat(48.200000:48.200000), Long(16.200000:16.200000),ansi(\"1979-10-01T00:00:00\":\"1979-10-31T18:00:00\")] - 273.15), \"csv\")\n",
      "http://earthserver.ecmwf.int/rasdaman/ows?service=WCS&version=2.0.1&request=ProcessCoverages&query=for c in (temp2m) return encode(avg(c[Lat(48.200000:48.200000), Long(16.200000:16.200000),ansi(\"1979-11-01T00:00:00\":\"1979-11-30T18:00:00\")] - 273.15), \"csv\")\n",
      "http://earthserver.ecmwf.int/rasdaman/ows?service=WCS&version=2.0.1&request=ProcessCoverages&query=for c in (temp2m) return encode(avg(c[Lat(48.200000:48.200000), Long(16.200000:16.200000),ansi(\"1979-12-01T00:00:00\":\"1979-12-31T18:00:00\")] - 273.15), \"csv\")\n",
      "http://earthserver.ecmwf.int/rasdaman/ows?service=WCS&version=2.0.1&request=ProcessCoverages&query=for c in (temp2m) return encode(avg(c[Lat(48.200000:48.200000), Long(16.200000:16.200000),ansi(\"1980-01-01T00:00:00\":\"1980-01-31T18:00:00\")] - 273.15), \"csv\")\n",
      "http://earthserver.ecmwf.int/rasdaman/ows?service=WCS&version=2.0.1&request=ProcessCoverages&query=for c in (temp2m) return encode(avg(c[Lat(48.200000:48.200000), Long(16.200000:16.200000),ansi(\"1980-02-01T00:00:00\":\"1980-02-29T18:00:00\")] - 273.15), \"csv\")\n",
      "http://earthserver.ecmwf.int/rasdaman/ows?service=WCS&version=2.0.1&request=ProcessCoverages&query=for c in (temp2m) return encode(avg(c[Lat(48.200000:48.200000), Long(16.200000:16.200000),ansi(\"1980-03-01T00:00:00\":\"1980-03-31T18:00:00\")] - 273.15), \"csv\")\n",
      "http://earthserver.ecmwf.int/rasdaman/ows?service=WCS&version=2.0.1&request=ProcessCoverages&query=for c in (temp2m) return encode(avg(c[Lat(48.200000:48.200000), Long(16.200000:16.200000),ansi(\"1980-04-01T00:00:00\":\"1980-04-30T18:00:00\")] - 273.15), \"csv\")\n",
      "http://earthserver.ecmwf.int/rasdaman/ows?service=WCS&version=2.0.1&request=ProcessCoverages&query=for c in (temp2m) return encode(avg(c[Lat(48.200000:48.200000), Long(16.200000:16.200000),ansi(\"1980-05-01T00:00:00\":\"1980-05-31T18:00:00\")] - 273.15), \"csv\")\n",
      "http://earthserver.ecmwf.int/rasdaman/ows?service=WCS&version=2.0.1&request=ProcessCoverages&query=for c in (temp2m) return encode(avg(c[Lat(48.200000:48.200000), Long(16.200000:16.200000),ansi(\"1980-06-01T00:00:00\":\"1980-06-30T18:00:00\")] - 273.15), \"csv\")\n",
      "http://earthserver.ecmwf.int/rasdaman/ows?service=WCS&version=2.0.1&request=ProcessCoverages&query=for c in (temp2m) return encode(avg(c[Lat(48.200000:48.200000), Long(16.200000:16.200000),ansi(\"1980-07-01T00:00:00\":\"1980-07-31T18:00:00\")] - 273.15), \"csv\")\n",
      "http://earthserver.ecmwf.int/rasdaman/ows?service=WCS&version=2.0.1&request=ProcessCoverages&query=for c in (temp2m) return encode(avg(c[Lat(48.200000:48.200000), Long(16.200000:16.200000),ansi(\"1980-08-01T00:00:00\":\"1980-08-31T18:00:00\")] - 273.15), \"csv\")\n",
      "http://earthserver.ecmwf.int/rasdaman/ows?service=WCS&version=2.0.1&request=ProcessCoverages&query=for c in (temp2m) return encode(avg(c[Lat(48.200000:48.200000), Long(16.200000:16.200000),ansi(\"1980-09-01T00:00:00\":\"1980-09-30T18:00:00\")] - 273.15), \"csv\")\n",
      "http://earthserver.ecmwf.int/rasdaman/ows?service=WCS&version=2.0.1&request=ProcessCoverages&query=for c in (temp2m) return encode(avg(c[Lat(48.200000:48.200000), Long(16.200000:16.200000),ansi(\"1980-10-01T00:00:00\":\"1980-10-31T18:00:00\")] - 273.15), \"csv\")\n",
      "http://earthserver.ecmwf.int/rasdaman/ows?service=WCS&version=2.0.1&request=ProcessCoverages&query=for c in (temp2m) return encode(avg(c[Lat(48.200000:48.200000), Long(16.200000:16.200000),ansi(\"1980-11-01T00:00:00\":\"1980-11-30T18:00:00\")] - 273.15), \"csv\")\n",
      "http://earthserver.ecmwf.int/rasdaman/ows?service=WCS&version=2.0.1&request=ProcessCoverages&query=for c in (temp2m) return encode(avg(c[Lat(48.200000:48.200000), Long(16.200000:16.200000),ansi(\"1980-12-01T00:00:00\":\"1980-12-31T18:00:00\")] - 273.15), \"csv\")\n",
      "http://earthserver.ecmwf.int/rasdaman/ows?service=WCS&version=2.0.1&request=ProcessCoverages&query=for c in (temp2m) return encode(avg(c[Lat(48.200000:48.200000), Long(16.200000:16.200000),ansi(\"1981-01-01T00:00:00\":\"1981-01-31T18:00:00\")] - 273.15), \"csv\")\n",
      "http://earthserver.ecmwf.int/rasdaman/ows?service=WCS&version=2.0.1&request=ProcessCoverages&query=for c in (temp2m) return encode(avg(c[Lat(48.200000:48.200000), Long(16.200000:16.200000),ansi(\"1981-02-01T00:00:00\":\"1981-02-28T18:00:00\")] - 273.15), \"csv\")\n",
      "http://earthserver.ecmwf.int/rasdaman/ows?service=WCS&version=2.0.1&request=ProcessCoverages&query=for c in (temp2m) return encode(avg(c[Lat(48.200000:48.200000), Long(16.200000:16.200000),ansi(\"1981-03-01T00:00:00\":\"1981-03-31T18:00:00\")] - 273.15), \"csv\")\n"
     ]
    },
    {
     "ename": "KeyboardInterrupt",
     "evalue": "",
     "output_type": "error",
     "traceback": [
      "\u001b[0;31m---------------------------------------------------------------------------\u001b[0m",
      "\u001b[0;31mTypeError\u001b[0m                                 Traceback (most recent call last)",
      "\u001b[0;32m~/anaconda3/lib/python3.6/site-packages/urllib3/connectionpool.py\u001b[0m in \u001b[0;36m_make_request\u001b[0;34m(self, conn, method, url, timeout, chunked, **httplib_request_kw)\u001b[0m\n\u001b[1;32m    379\u001b[0m             \u001b[0;32mtry\u001b[0m\u001b[0;34m:\u001b[0m  \u001b[0;31m# Python 2.7, use buffering of HTTP responses\u001b[0m\u001b[0;34m\u001b[0m\u001b[0m\n\u001b[0;32m--> 380\u001b[0;31m                 \u001b[0mhttplib_response\u001b[0m \u001b[0;34m=\u001b[0m \u001b[0mconn\u001b[0m\u001b[0;34m.\u001b[0m\u001b[0mgetresponse\u001b[0m\u001b[0;34m(\u001b[0m\u001b[0mbuffering\u001b[0m\u001b[0;34m=\u001b[0m\u001b[0;32mTrue\u001b[0m\u001b[0;34m)\u001b[0m\u001b[0;34m\u001b[0m\u001b[0m\n\u001b[0m\u001b[1;32m    381\u001b[0m             \u001b[0;32mexcept\u001b[0m \u001b[0mTypeError\u001b[0m\u001b[0;34m:\u001b[0m  \u001b[0;31m# Python 2.6 and older, Python 3\u001b[0m\u001b[0;34m\u001b[0m\u001b[0m\n",
      "\u001b[0;31mTypeError\u001b[0m: getresponse() got an unexpected keyword argument 'buffering'",
      "\nDuring handling of the above exception, another exception occurred:\n",
      "\u001b[0;31mKeyboardInterrupt\u001b[0m                         Traceback (most recent call last)",
      "\u001b[0;32m<ipython-input-5-f8be42bcc1bd>\u001b[0m in \u001b[0;36m<module>\u001b[0;34m()\u001b[0m\n\u001b[1;32m      3\u001b[0m \u001b[0mlonMin\u001b[0m \u001b[0;34m=\u001b[0m \u001b[0;36m16.2\u001b[0m\u001b[0;34m\u001b[0m\u001b[0m\n\u001b[1;32m      4\u001b[0m \u001b[0mlonMax\u001b[0m \u001b[0;34m=\u001b[0m \u001b[0;36m16.2\u001b[0m\u001b[0;34m\u001b[0m\u001b[0m\n\u001b[0;32m----> 5\u001b[0;31m \u001b[0mmonthlyTS_avg\u001b[0m \u001b[0;34m=\u001b[0m \u001b[0mretrieveFromWCS\u001b[0m\u001b[0;34m(\u001b[0m\u001b[0;34m\"temp2m\"\u001b[0m\u001b[0;34m,\u001b[0m \u001b[0;34m\"avg\"\u001b[0m\u001b[0;34m,\u001b[0m \u001b[0mlatMin\u001b[0m\u001b[0;34m,\u001b[0m \u001b[0mlatMax\u001b[0m\u001b[0;34m,\u001b[0m \u001b[0mlonMin\u001b[0m\u001b[0;34m,\u001b[0m \u001b[0mlonMax\u001b[0m\u001b[0;34m)\u001b[0m\u001b[0;34m\u001b[0m\u001b[0m\n\u001b[0m\u001b[1;32m      6\u001b[0m \u001b[0mmonthlyTS_max\u001b[0m \u001b[0;34m=\u001b[0m \u001b[0mretrieveFromWCS\u001b[0m\u001b[0;34m(\u001b[0m\u001b[0;34m\"temp2m\"\u001b[0m\u001b[0;34m,\u001b[0m \u001b[0;34m\"max\"\u001b[0m\u001b[0;34m,\u001b[0m \u001b[0mlatMin\u001b[0m\u001b[0;34m,\u001b[0m \u001b[0mlatMax\u001b[0m\u001b[0;34m,\u001b[0m \u001b[0mlonMin\u001b[0m\u001b[0;34m,\u001b[0m \u001b[0mlonMax\u001b[0m\u001b[0;34m)\u001b[0m\u001b[0;34m\u001b[0m\u001b[0m\n\u001b[1;32m      7\u001b[0m \u001b[0mmonthlyTS_min\u001b[0m \u001b[0;34m=\u001b[0m \u001b[0mretrieveFromWCS\u001b[0m\u001b[0;34m(\u001b[0m\u001b[0;34m\"temp2m\"\u001b[0m\u001b[0;34m,\u001b[0m \u001b[0;34m\"min\"\u001b[0m\u001b[0;34m,\u001b[0m \u001b[0mlatMin\u001b[0m\u001b[0;34m,\u001b[0m \u001b[0mlatMax\u001b[0m\u001b[0;34m,\u001b[0m \u001b[0mlonMin\u001b[0m\u001b[0;34m,\u001b[0m \u001b[0mlonMax\u001b[0m\u001b[0;34m)\u001b[0m\u001b[0;34m\u001b[0m\u001b[0m\n",
      "\u001b[0;32m<ipython-input-4-b7381c118b97>\u001b[0m in \u001b[0;36mretrieveFromWCS\u001b[0;34m(param, operation, latMin, latMax, lonMin, lonMax)\u001b[0m\n\u001b[1;32m     13\u001b[0m         \u001b[0mprint\u001b[0m \u001b[0;34m(\u001b[0m\u001b[0murl\u001b[0m\u001b[0;34m)\u001b[0m\u001b[0;34m\u001b[0m\u001b[0m\n\u001b[1;32m     14\u001b[0m         r= requests.get(url,\n\u001b[0;32m---> 15\u001b[0;31m                 \u001b[0mproxies\u001b[0m\u001b[0;34m=\u001b[0m\u001b[0;34m{\u001b[0m\u001b[0;34m'http'\u001b[0m\u001b[0;34m:\u001b[0m\u001b[0;32mNone\u001b[0m\u001b[0;34m}\u001b[0m\u001b[0;34m\u001b[0m\u001b[0m\n\u001b[0m\u001b[1;32m     16\u001b[0m                 )\n\u001b[1;32m     17\u001b[0m \u001b[0;34m\u001b[0m\u001b[0m\n",
      "\u001b[0;32m~/anaconda3/lib/python3.6/site-packages/requests/api.py\u001b[0m in \u001b[0;36mget\u001b[0;34m(url, params, **kwargs)\u001b[0m\n\u001b[1;32m     70\u001b[0m \u001b[0;34m\u001b[0m\u001b[0m\n\u001b[1;32m     71\u001b[0m     \u001b[0mkwargs\u001b[0m\u001b[0;34m.\u001b[0m\u001b[0msetdefault\u001b[0m\u001b[0;34m(\u001b[0m\u001b[0;34m'allow_redirects'\u001b[0m\u001b[0;34m,\u001b[0m \u001b[0;32mTrue\u001b[0m\u001b[0;34m)\u001b[0m\u001b[0;34m\u001b[0m\u001b[0m\n\u001b[0;32m---> 72\u001b[0;31m     \u001b[0;32mreturn\u001b[0m \u001b[0mrequest\u001b[0m\u001b[0;34m(\u001b[0m\u001b[0;34m'get'\u001b[0m\u001b[0;34m,\u001b[0m \u001b[0murl\u001b[0m\u001b[0;34m,\u001b[0m \u001b[0mparams\u001b[0m\u001b[0;34m=\u001b[0m\u001b[0mparams\u001b[0m\u001b[0;34m,\u001b[0m \u001b[0;34m**\u001b[0m\u001b[0mkwargs\u001b[0m\u001b[0;34m)\u001b[0m\u001b[0;34m\u001b[0m\u001b[0m\n\u001b[0m\u001b[1;32m     73\u001b[0m \u001b[0;34m\u001b[0m\u001b[0m\n\u001b[1;32m     74\u001b[0m \u001b[0;34m\u001b[0m\u001b[0m\n",
      "\u001b[0;32m~/anaconda3/lib/python3.6/site-packages/requests/api.py\u001b[0m in \u001b[0;36mrequest\u001b[0;34m(method, url, **kwargs)\u001b[0m\n\u001b[1;32m     56\u001b[0m     \u001b[0;31m# cases, and look like a memory leak in others.\u001b[0m\u001b[0;34m\u001b[0m\u001b[0;34m\u001b[0m\u001b[0m\n\u001b[1;32m     57\u001b[0m     \u001b[0;32mwith\u001b[0m \u001b[0msessions\u001b[0m\u001b[0;34m.\u001b[0m\u001b[0mSession\u001b[0m\u001b[0;34m(\u001b[0m\u001b[0;34m)\u001b[0m \u001b[0;32mas\u001b[0m \u001b[0msession\u001b[0m\u001b[0;34m:\u001b[0m\u001b[0;34m\u001b[0m\u001b[0m\n\u001b[0;32m---> 58\u001b[0;31m         \u001b[0;32mreturn\u001b[0m \u001b[0msession\u001b[0m\u001b[0;34m.\u001b[0m\u001b[0mrequest\u001b[0m\u001b[0;34m(\u001b[0m\u001b[0mmethod\u001b[0m\u001b[0;34m=\u001b[0m\u001b[0mmethod\u001b[0m\u001b[0;34m,\u001b[0m \u001b[0murl\u001b[0m\u001b[0;34m=\u001b[0m\u001b[0murl\u001b[0m\u001b[0;34m,\u001b[0m \u001b[0;34m**\u001b[0m\u001b[0mkwargs\u001b[0m\u001b[0;34m)\u001b[0m\u001b[0;34m\u001b[0m\u001b[0m\n\u001b[0m\u001b[1;32m     59\u001b[0m \u001b[0;34m\u001b[0m\u001b[0m\n\u001b[1;32m     60\u001b[0m \u001b[0;34m\u001b[0m\u001b[0m\n",
      "\u001b[0;32m~/anaconda3/lib/python3.6/site-packages/requests/sessions.py\u001b[0m in \u001b[0;36mrequest\u001b[0;34m(self, method, url, params, data, headers, cookies, files, auth, timeout, allow_redirects, proxies, hooks, stream, verify, cert, json)\u001b[0m\n\u001b[1;32m    506\u001b[0m         }\n\u001b[1;32m    507\u001b[0m         \u001b[0msend_kwargs\u001b[0m\u001b[0;34m.\u001b[0m\u001b[0mupdate\u001b[0m\u001b[0;34m(\u001b[0m\u001b[0msettings\u001b[0m\u001b[0;34m)\u001b[0m\u001b[0;34m\u001b[0m\u001b[0m\n\u001b[0;32m--> 508\u001b[0;31m         \u001b[0mresp\u001b[0m \u001b[0;34m=\u001b[0m \u001b[0mself\u001b[0m\u001b[0;34m.\u001b[0m\u001b[0msend\u001b[0m\u001b[0;34m(\u001b[0m\u001b[0mprep\u001b[0m\u001b[0;34m,\u001b[0m \u001b[0;34m**\u001b[0m\u001b[0msend_kwargs\u001b[0m\u001b[0;34m)\u001b[0m\u001b[0;34m\u001b[0m\u001b[0m\n\u001b[0m\u001b[1;32m    509\u001b[0m \u001b[0;34m\u001b[0m\u001b[0m\n\u001b[1;32m    510\u001b[0m         \u001b[0;32mreturn\u001b[0m \u001b[0mresp\u001b[0m\u001b[0;34m\u001b[0m\u001b[0m\n",
      "\u001b[0;32m~/anaconda3/lib/python3.6/site-packages/requests/sessions.py\u001b[0m in \u001b[0;36msend\u001b[0;34m(self, request, **kwargs)\u001b[0m\n\u001b[1;32m    616\u001b[0m \u001b[0;34m\u001b[0m\u001b[0m\n\u001b[1;32m    617\u001b[0m         \u001b[0;31m# Send the request\u001b[0m\u001b[0;34m\u001b[0m\u001b[0;34m\u001b[0m\u001b[0m\n\u001b[0;32m--> 618\u001b[0;31m         \u001b[0mr\u001b[0m \u001b[0;34m=\u001b[0m \u001b[0madapter\u001b[0m\u001b[0;34m.\u001b[0m\u001b[0msend\u001b[0m\u001b[0;34m(\u001b[0m\u001b[0mrequest\u001b[0m\u001b[0;34m,\u001b[0m \u001b[0;34m**\u001b[0m\u001b[0mkwargs\u001b[0m\u001b[0;34m)\u001b[0m\u001b[0;34m\u001b[0m\u001b[0m\n\u001b[0m\u001b[1;32m    619\u001b[0m \u001b[0;34m\u001b[0m\u001b[0m\n\u001b[1;32m    620\u001b[0m         \u001b[0;31m# Total elapsed time of the request (approximately)\u001b[0m\u001b[0;34m\u001b[0m\u001b[0;34m\u001b[0m\u001b[0m\n",
      "\u001b[0;32m~/anaconda3/lib/python3.6/site-packages/requests/adapters.py\u001b[0m in \u001b[0;36msend\u001b[0;34m(self, request, stream, timeout, verify, cert, proxies)\u001b[0m\n\u001b[1;32m    438\u001b[0m                     \u001b[0mdecode_content\u001b[0m\u001b[0;34m=\u001b[0m\u001b[0;32mFalse\u001b[0m\u001b[0;34m,\u001b[0m\u001b[0;34m\u001b[0m\u001b[0m\n\u001b[1;32m    439\u001b[0m                     \u001b[0mretries\u001b[0m\u001b[0;34m=\u001b[0m\u001b[0mself\u001b[0m\u001b[0;34m.\u001b[0m\u001b[0mmax_retries\u001b[0m\u001b[0;34m,\u001b[0m\u001b[0;34m\u001b[0m\u001b[0m\n\u001b[0;32m--> 440\u001b[0;31m                     \u001b[0mtimeout\u001b[0m\u001b[0;34m=\u001b[0m\u001b[0mtimeout\u001b[0m\u001b[0;34m\u001b[0m\u001b[0m\n\u001b[0m\u001b[1;32m    441\u001b[0m                 )\n\u001b[1;32m    442\u001b[0m \u001b[0;34m\u001b[0m\u001b[0m\n",
      "\u001b[0;32m~/anaconda3/lib/python3.6/site-packages/urllib3/connectionpool.py\u001b[0m in \u001b[0;36murlopen\u001b[0;34m(self, method, url, body, headers, retries, redirect, assert_same_host, timeout, pool_timeout, release_conn, chunked, body_pos, **response_kw)\u001b[0m\n\u001b[1;32m    599\u001b[0m                                                   \u001b[0mtimeout\u001b[0m\u001b[0;34m=\u001b[0m\u001b[0mtimeout_obj\u001b[0m\u001b[0;34m,\u001b[0m\u001b[0;34m\u001b[0m\u001b[0m\n\u001b[1;32m    600\u001b[0m                                                   \u001b[0mbody\u001b[0m\u001b[0;34m=\u001b[0m\u001b[0mbody\u001b[0m\u001b[0;34m,\u001b[0m \u001b[0mheaders\u001b[0m\u001b[0;34m=\u001b[0m\u001b[0mheaders\u001b[0m\u001b[0;34m,\u001b[0m\u001b[0;34m\u001b[0m\u001b[0m\n\u001b[0;32m--> 601\u001b[0;31m                                                   chunked=chunked)\n\u001b[0m\u001b[1;32m    602\u001b[0m \u001b[0;34m\u001b[0m\u001b[0m\n\u001b[1;32m    603\u001b[0m             \u001b[0;31m# If we're going to release the connection in ``finally:``, then\u001b[0m\u001b[0;34m\u001b[0m\u001b[0;34m\u001b[0m\u001b[0m\n",
      "\u001b[0;32m~/anaconda3/lib/python3.6/site-packages/urllib3/connectionpool.py\u001b[0m in \u001b[0;36m_make_request\u001b[0;34m(self, conn, method, url, timeout, chunked, **httplib_request_kw)\u001b[0m\n\u001b[1;32m    381\u001b[0m             \u001b[0;32mexcept\u001b[0m \u001b[0mTypeError\u001b[0m\u001b[0;34m:\u001b[0m  \u001b[0;31m# Python 2.6 and older, Python 3\u001b[0m\u001b[0;34m\u001b[0m\u001b[0m\n\u001b[1;32m    382\u001b[0m                 \u001b[0;32mtry\u001b[0m\u001b[0;34m:\u001b[0m\u001b[0;34m\u001b[0m\u001b[0m\n\u001b[0;32m--> 383\u001b[0;31m                     \u001b[0mhttplib_response\u001b[0m \u001b[0;34m=\u001b[0m \u001b[0mconn\u001b[0m\u001b[0;34m.\u001b[0m\u001b[0mgetresponse\u001b[0m\u001b[0;34m(\u001b[0m\u001b[0;34m)\u001b[0m\u001b[0;34m\u001b[0m\u001b[0m\n\u001b[0m\u001b[1;32m    384\u001b[0m                 \u001b[0;32mexcept\u001b[0m \u001b[0mException\u001b[0m \u001b[0;32mas\u001b[0m \u001b[0me\u001b[0m\u001b[0;34m:\u001b[0m\u001b[0;34m\u001b[0m\u001b[0m\n\u001b[1;32m    385\u001b[0m                     \u001b[0;31m# Remove the TypeError from the exception chain in Python 3;\u001b[0m\u001b[0;34m\u001b[0m\u001b[0;34m\u001b[0m\u001b[0m\n",
      "\u001b[0;32m~/anaconda3/lib/python3.6/http/client.py\u001b[0m in \u001b[0;36mgetresponse\u001b[0;34m(self)\u001b[0m\n\u001b[1;32m   1329\u001b[0m         \u001b[0;32mtry\u001b[0m\u001b[0;34m:\u001b[0m\u001b[0;34m\u001b[0m\u001b[0m\n\u001b[1;32m   1330\u001b[0m             \u001b[0;32mtry\u001b[0m\u001b[0;34m:\u001b[0m\u001b[0;34m\u001b[0m\u001b[0m\n\u001b[0;32m-> 1331\u001b[0;31m                 \u001b[0mresponse\u001b[0m\u001b[0;34m.\u001b[0m\u001b[0mbegin\u001b[0m\u001b[0;34m(\u001b[0m\u001b[0;34m)\u001b[0m\u001b[0;34m\u001b[0m\u001b[0m\n\u001b[0m\u001b[1;32m   1332\u001b[0m             \u001b[0;32mexcept\u001b[0m \u001b[0mConnectionError\u001b[0m\u001b[0;34m:\u001b[0m\u001b[0;34m\u001b[0m\u001b[0m\n\u001b[1;32m   1333\u001b[0m                 \u001b[0mself\u001b[0m\u001b[0;34m.\u001b[0m\u001b[0mclose\u001b[0m\u001b[0;34m(\u001b[0m\u001b[0;34m)\u001b[0m\u001b[0;34m\u001b[0m\u001b[0m\n",
      "\u001b[0;32m~/anaconda3/lib/python3.6/http/client.py\u001b[0m in \u001b[0;36mbegin\u001b[0;34m(self)\u001b[0m\n\u001b[1;32m    295\u001b[0m         \u001b[0;31m# read until we get a non-100 response\u001b[0m\u001b[0;34m\u001b[0m\u001b[0;34m\u001b[0m\u001b[0m\n\u001b[1;32m    296\u001b[0m         \u001b[0;32mwhile\u001b[0m \u001b[0;32mTrue\u001b[0m\u001b[0;34m:\u001b[0m\u001b[0;34m\u001b[0m\u001b[0m\n\u001b[0;32m--> 297\u001b[0;31m             \u001b[0mversion\u001b[0m\u001b[0;34m,\u001b[0m \u001b[0mstatus\u001b[0m\u001b[0;34m,\u001b[0m \u001b[0mreason\u001b[0m \u001b[0;34m=\u001b[0m \u001b[0mself\u001b[0m\u001b[0;34m.\u001b[0m\u001b[0m_read_status\u001b[0m\u001b[0;34m(\u001b[0m\u001b[0;34m)\u001b[0m\u001b[0;34m\u001b[0m\u001b[0m\n\u001b[0m\u001b[1;32m    298\u001b[0m             \u001b[0;32mif\u001b[0m \u001b[0mstatus\u001b[0m \u001b[0;34m!=\u001b[0m \u001b[0mCONTINUE\u001b[0m\u001b[0;34m:\u001b[0m\u001b[0;34m\u001b[0m\u001b[0m\n\u001b[1;32m    299\u001b[0m                 \u001b[0;32mbreak\u001b[0m\u001b[0;34m\u001b[0m\u001b[0m\n",
      "\u001b[0;32m~/anaconda3/lib/python3.6/http/client.py\u001b[0m in \u001b[0;36m_read_status\u001b[0;34m(self)\u001b[0m\n\u001b[1;32m    256\u001b[0m \u001b[0;34m\u001b[0m\u001b[0m\n\u001b[1;32m    257\u001b[0m     \u001b[0;32mdef\u001b[0m \u001b[0m_read_status\u001b[0m\u001b[0;34m(\u001b[0m\u001b[0mself\u001b[0m\u001b[0;34m)\u001b[0m\u001b[0;34m:\u001b[0m\u001b[0;34m\u001b[0m\u001b[0m\n\u001b[0;32m--> 258\u001b[0;31m         \u001b[0mline\u001b[0m \u001b[0;34m=\u001b[0m \u001b[0mstr\u001b[0m\u001b[0;34m(\u001b[0m\u001b[0mself\u001b[0m\u001b[0;34m.\u001b[0m\u001b[0mfp\u001b[0m\u001b[0;34m.\u001b[0m\u001b[0mreadline\u001b[0m\u001b[0;34m(\u001b[0m\u001b[0m_MAXLINE\u001b[0m \u001b[0;34m+\u001b[0m \u001b[0;36m1\u001b[0m\u001b[0;34m)\u001b[0m\u001b[0;34m,\u001b[0m \u001b[0;34m\"iso-8859-1\"\u001b[0m\u001b[0;34m)\u001b[0m\u001b[0;34m\u001b[0m\u001b[0m\n\u001b[0m\u001b[1;32m    259\u001b[0m         \u001b[0;32mif\u001b[0m \u001b[0mlen\u001b[0m\u001b[0;34m(\u001b[0m\u001b[0mline\u001b[0m\u001b[0;34m)\u001b[0m \u001b[0;34m>\u001b[0m \u001b[0m_MAXLINE\u001b[0m\u001b[0;34m:\u001b[0m\u001b[0;34m\u001b[0m\u001b[0m\n\u001b[1;32m    260\u001b[0m             \u001b[0;32mraise\u001b[0m \u001b[0mLineTooLong\u001b[0m\u001b[0;34m(\u001b[0m\u001b[0;34m\"status line\"\u001b[0m\u001b[0;34m)\u001b[0m\u001b[0;34m\u001b[0m\u001b[0m\n",
      "\u001b[0;32m~/anaconda3/lib/python3.6/socket.py\u001b[0m in \u001b[0;36mreadinto\u001b[0;34m(self, b)\u001b[0m\n\u001b[1;32m    584\u001b[0m         \u001b[0;32mwhile\u001b[0m \u001b[0;32mTrue\u001b[0m\u001b[0;34m:\u001b[0m\u001b[0;34m\u001b[0m\u001b[0m\n\u001b[1;32m    585\u001b[0m             \u001b[0;32mtry\u001b[0m\u001b[0;34m:\u001b[0m\u001b[0;34m\u001b[0m\u001b[0m\n\u001b[0;32m--> 586\u001b[0;31m                 \u001b[0;32mreturn\u001b[0m \u001b[0mself\u001b[0m\u001b[0;34m.\u001b[0m\u001b[0m_sock\u001b[0m\u001b[0;34m.\u001b[0m\u001b[0mrecv_into\u001b[0m\u001b[0;34m(\u001b[0m\u001b[0mb\u001b[0m\u001b[0;34m)\u001b[0m\u001b[0;34m\u001b[0m\u001b[0m\n\u001b[0m\u001b[1;32m    587\u001b[0m             \u001b[0;32mexcept\u001b[0m \u001b[0mtimeout\u001b[0m\u001b[0;34m:\u001b[0m\u001b[0;34m\u001b[0m\u001b[0m\n\u001b[1;32m    588\u001b[0m                 \u001b[0mself\u001b[0m\u001b[0;34m.\u001b[0m\u001b[0m_timeout_occurred\u001b[0m \u001b[0;34m=\u001b[0m \u001b[0;32mTrue\u001b[0m\u001b[0;34m\u001b[0m\u001b[0m\n",
      "\u001b[0;31mKeyboardInterrupt\u001b[0m: "
     ]
    }
   ],
   "source": [
    "latMin = 48.2\n",
    "latMax = 48.2\n",
    "lonMin = 16.2\n",
    "lonMax = 16.2\n",
    "monthlyTS_avg = retrieveFromWCS(\"temp2m\", \"avg\", latMin, latMax, lonMin, lonMax)\n",
    "monthlyTS_max = retrieveFromWCS(\"temp2m\", \"max\", latMin, latMax, lonMin, lonMax)\n",
    "monthlyTS_min = retrieveFromWCS(\"temp2m\", \"min\", latMin, latMax, lonMin, lonMax)"
   ]
  },
  {
   "cell_type": "markdown",
   "metadata": {
    "slideshow": {
     "slide_type": "slide"
    }
   },
   "source": [
    "### Workflow step (2): <br> \n",
    "## <a font-color=\"blue\">Retrieve monthly sums of total precipitation for Vienna for every month</a>"
   ]
  },
  {
   "cell_type": "code",
   "execution_count": 35,
   "metadata": {},
   "outputs": [
    {
     "name": "stdout",
     "output_type": "stream",
     "text": [
      "http://earthserver.ecmwf.int/rasdaman/ows?service=WCS&version=2.0.1&request=ProcessCoverages&query=for c in (precipitation) return encode(add(c[Lat(48.100000:48.100000), Long(16.200000:16.200000),ansi(\"1979-01-02T00:00:00\":\"1979-01-31T18:00:00\")] * 1000), \"csv\")\n",
      "http://earthserver.ecmwf.int/rasdaman/ows?service=WCS&version=2.0.1&request=ProcessCoverages&query=for c in (precipitation) return encode(add(c[Lat(48.100000:48.100000), Long(16.200000:16.200000),ansi(\"1979-02-01T00:00:00\":\"1979-02-28T18:00:00\")] * 1000), \"csv\")\n",
      "http://earthserver.ecmwf.int/rasdaman/ows?service=WCS&version=2.0.1&request=ProcessCoverages&query=for c in (precipitation) return encode(add(c[Lat(48.100000:48.100000), Long(16.200000:16.200000),ansi(\"1979-03-01T00:00:00\":\"1979-03-31T18:00:00\")] * 1000), \"csv\")\n",
      "http://earthserver.ecmwf.int/rasdaman/ows?service=WCS&version=2.0.1&request=ProcessCoverages&query=for c in (precipitation) return encode(add(c[Lat(48.100000:48.100000), Long(16.200000:16.200000),ansi(\"1979-04-01T00:00:00\":\"1979-04-30T18:00:00\")] * 1000), \"csv\")\n",
      "http://earthserver.ecmwf.int/rasdaman/ows?service=WCS&version=2.0.1&request=ProcessCoverages&query=for c in (precipitation) return encode(add(c[Lat(48.100000:48.100000), Long(16.200000:16.200000),ansi(\"1979-05-01T00:00:00\":\"1979-05-31T18:00:00\")] * 1000), \"csv\")\n",
      "http://earthserver.ecmwf.int/rasdaman/ows?service=WCS&version=2.0.1&request=ProcessCoverages&query=for c in (precipitation) return encode(add(c[Lat(48.100000:48.100000), Long(16.200000:16.200000),ansi(\"1979-06-01T00:00:00\":\"1979-06-30T18:00:00\")] * 1000), \"csv\")\n",
      "http://earthserver.ecmwf.int/rasdaman/ows?service=WCS&version=2.0.1&request=ProcessCoverages&query=for c in (precipitation) return encode(add(c[Lat(48.100000:48.100000), Long(16.200000:16.200000),ansi(\"1979-07-01T00:00:00\":\"1979-07-31T18:00:00\")] * 1000), \"csv\")\n",
      "http://earthserver.ecmwf.int/rasdaman/ows?service=WCS&version=2.0.1&request=ProcessCoverages&query=for c in (precipitation) return encode(add(c[Lat(48.100000:48.100000), Long(16.200000:16.200000),ansi(\"1979-08-01T00:00:00\":\"1979-08-31T18:00:00\")] * 1000), \"csv\")\n",
      "http://earthserver.ecmwf.int/rasdaman/ows?service=WCS&version=2.0.1&request=ProcessCoverages&query=for c in (precipitation) return encode(add(c[Lat(48.100000:48.100000), Long(16.200000:16.200000),ansi(\"1979-09-01T00:00:00\":\"1979-09-30T18:00:00\")] * 1000), \"csv\")\n",
      "http://earthserver.ecmwf.int/rasdaman/ows?service=WCS&version=2.0.1&request=ProcessCoverages&query=for c in (precipitation) return encode(add(c[Lat(48.100000:48.100000), Long(16.200000:16.200000),ansi(\"1979-10-01T00:00:00\":\"1979-10-31T18:00:00\")] * 1000), \"csv\")\n",
      "http://earthserver.ecmwf.int/rasdaman/ows?service=WCS&version=2.0.1&request=ProcessCoverages&query=for c in (precipitation) return encode(add(c[Lat(48.100000:48.100000), Long(16.200000:16.200000),ansi(\"1979-11-01T00:00:00\":\"1979-11-30T18:00:00\")] * 1000), \"csv\")\n",
      "http://earthserver.ecmwf.int/rasdaman/ows?service=WCS&version=2.0.1&request=ProcessCoverages&query=for c in (precipitation) return encode(add(c[Lat(48.100000:48.100000), Long(16.200000:16.200000),ansi(\"1979-12-01T00:00:00\":\"1979-12-31T18:00:00\")] * 1000), \"csv\")\n",
      "http://earthserver.ecmwf.int/rasdaman/ows?service=WCS&version=2.0.1&request=ProcessCoverages&query=for c in (precipitation) return encode(add(c[Lat(48.100000:48.100000), Long(16.200000:16.200000),ansi(\"1980-01-01T00:00:00\":\"1980-01-31T18:00:00\")] * 1000), \"csv\")\n",
      "http://earthserver.ecmwf.int/rasdaman/ows?service=WCS&version=2.0.1&request=ProcessCoverages&query=for c in (precipitation) return encode(add(c[Lat(48.100000:48.100000), Long(16.200000:16.200000),ansi(\"1980-02-01T00:00:00\":\"1980-02-29T18:00:00\")] * 1000), \"csv\")\n",
      "http://earthserver.ecmwf.int/rasdaman/ows?service=WCS&version=2.0.1&request=ProcessCoverages&query=for c in (precipitation) return encode(add(c[Lat(48.100000:48.100000), Long(16.200000:16.200000),ansi(\"1980-03-01T00:00:00\":\"1980-03-31T18:00:00\")] * 1000), \"csv\")\n",
      "http://earthserver.ecmwf.int/rasdaman/ows?service=WCS&version=2.0.1&request=ProcessCoverages&query=for c in (precipitation) return encode(add(c[Lat(48.100000:48.100000), Long(16.200000:16.200000),ansi(\"1980-04-01T00:00:00\":\"1980-04-30T18:00:00\")] * 1000), \"csv\")\n",
      "http://earthserver.ecmwf.int/rasdaman/ows?service=WCS&version=2.0.1&request=ProcessCoverages&query=for c in (precipitation) return encode(add(c[Lat(48.100000:48.100000), Long(16.200000:16.200000),ansi(\"1980-05-01T00:00:00\":\"1980-05-31T18:00:00\")] * 1000), \"csv\")\n",
      "http://earthserver.ecmwf.int/rasdaman/ows?service=WCS&version=2.0.1&request=ProcessCoverages&query=for c in (precipitation) return encode(add(c[Lat(48.100000:48.100000), Long(16.200000:16.200000),ansi(\"1980-06-01T00:00:00\":\"1980-06-30T18:00:00\")] * 1000), \"csv\")\n",
      "http://earthserver.ecmwf.int/rasdaman/ows?service=WCS&version=2.0.1&request=ProcessCoverages&query=for c in (precipitation) return encode(add(c[Lat(48.100000:48.100000), Long(16.200000:16.200000),ansi(\"1980-07-01T00:00:00\":\"1980-07-31T18:00:00\")] * 1000), \"csv\")\n",
      "http://earthserver.ecmwf.int/rasdaman/ows?service=WCS&version=2.0.1&request=ProcessCoverages&query=for c in (precipitation) return encode(add(c[Lat(48.100000:48.100000), Long(16.200000:16.200000),ansi(\"1980-08-01T00:00:00\":\"1980-08-31T18:00:00\")] * 1000), \"csv\")\n",
      "http://earthserver.ecmwf.int/rasdaman/ows?service=WCS&version=2.0.1&request=ProcessCoverages&query=for c in (precipitation) return encode(add(c[Lat(48.100000:48.100000), Long(16.200000:16.200000),ansi(\"1980-09-01T00:00:00\":\"1980-09-30T18:00:00\")] * 1000), \"csv\")\n",
      "http://earthserver.ecmwf.int/rasdaman/ows?service=WCS&version=2.0.1&request=ProcessCoverages&query=for c in (precipitation) return encode(add(c[Lat(48.100000:48.100000), Long(16.200000:16.200000),ansi(\"1980-10-01T00:00:00\":\"1980-10-31T18:00:00\")] * 1000), \"csv\")\n",
      "http://earthserver.ecmwf.int/rasdaman/ows?service=WCS&version=2.0.1&request=ProcessCoverages&query=for c in (precipitation) return encode(add(c[Lat(48.100000:48.100000), Long(16.200000:16.200000),ansi(\"1980-11-01T00:00:00\":\"1980-11-30T18:00:00\")] * 1000), \"csv\")\n",
      "http://earthserver.ecmwf.int/rasdaman/ows?service=WCS&version=2.0.1&request=ProcessCoverages&query=for c in (precipitation) return encode(add(c[Lat(48.100000:48.100000), Long(16.200000:16.200000),ansi(\"1980-12-01T00:00:00\":\"1980-12-31T18:00:00\")] * 1000), \"csv\")\n",
      "http://earthserver.ecmwf.int/rasdaman/ows?service=WCS&version=2.0.1&request=ProcessCoverages&query=for c in (precipitation) return encode(add(c[Lat(48.100000:48.100000), Long(16.200000:16.200000),ansi(\"1981-01-01T00:00:00\":\"1981-01-31T18:00:00\")] * 1000), \"csv\")\n",
      "http://earthserver.ecmwf.int/rasdaman/ows?service=WCS&version=2.0.1&request=ProcessCoverages&query=for c in (precipitation) return encode(add(c[Lat(48.100000:48.100000), Long(16.200000:16.200000),ansi(\"1981-02-01T00:00:00\":\"1981-02-28T18:00:00\")] * 1000), \"csv\")\n",
      "http://earthserver.ecmwf.int/rasdaman/ows?service=WCS&version=2.0.1&request=ProcessCoverages&query=for c in (precipitation) return encode(add(c[Lat(48.100000:48.100000), Long(16.200000:16.200000),ansi(\"1981-03-01T00:00:00\":\"1981-03-31T18:00:00\")] * 1000), \"csv\")\n",
      "http://earthserver.ecmwf.int/rasdaman/ows?service=WCS&version=2.0.1&request=ProcessCoverages&query=for c in (precipitation) return encode(add(c[Lat(48.100000:48.100000), Long(16.200000:16.200000),ansi(\"1981-04-01T00:00:00\":\"1981-04-30T18:00:00\")] * 1000), \"csv\")\n",
      "http://earthserver.ecmwf.int/rasdaman/ows?service=WCS&version=2.0.1&request=ProcessCoverages&query=for c in (precipitation) return encode(add(c[Lat(48.100000:48.100000), Long(16.200000:16.200000),ansi(\"1981-05-01T00:00:00\":\"1981-05-31T18:00:00\")] * 1000), \"csv\")\n",
      "http://earthserver.ecmwf.int/rasdaman/ows?service=WCS&version=2.0.1&request=ProcessCoverages&query=for c in (precipitation) return encode(add(c[Lat(48.100000:48.100000), Long(16.200000:16.200000),ansi(\"1981-06-01T00:00:00\":\"1981-06-30T18:00:00\")] * 1000), \"csv\")\n",
      "http://earthserver.ecmwf.int/rasdaman/ows?service=WCS&version=2.0.1&request=ProcessCoverages&query=for c in (precipitation) return encode(add(c[Lat(48.100000:48.100000), Long(16.200000:16.200000),ansi(\"1981-07-01T00:00:00\":\"1981-07-31T18:00:00\")] * 1000), \"csv\")\n",
      "http://earthserver.ecmwf.int/rasdaman/ows?service=WCS&version=2.0.1&request=ProcessCoverages&query=for c in (precipitation) return encode(add(c[Lat(48.100000:48.100000), Long(16.200000:16.200000),ansi(\"1981-08-01T00:00:00\":\"1981-08-31T18:00:00\")] * 1000), \"csv\")\n"
     ]
    },
    {
     "name": "stdout",
     "output_type": "stream",
     "text": [
      "http://earthserver.ecmwf.int/rasdaman/ows?service=WCS&version=2.0.1&request=ProcessCoverages&query=for c in (precipitation) return encode(add(c[Lat(48.100000:48.100000), Long(16.200000:16.200000),ansi(\"1981-09-01T00:00:00\":\"1981-09-30T18:00:00\")] * 1000), \"csv\")\n",
      "http://earthserver.ecmwf.int/rasdaman/ows?service=WCS&version=2.0.1&request=ProcessCoverages&query=for c in (precipitation) return encode(add(c[Lat(48.100000:48.100000), Long(16.200000:16.200000),ansi(\"1981-10-01T00:00:00\":\"1981-10-31T18:00:00\")] * 1000), \"csv\")\n",
      "http://earthserver.ecmwf.int/rasdaman/ows?service=WCS&version=2.0.1&request=ProcessCoverages&query=for c in (precipitation) return encode(add(c[Lat(48.100000:48.100000), Long(16.200000:16.200000),ansi(\"1981-11-01T00:00:00\":\"1981-11-30T18:00:00\")] * 1000), \"csv\")\n",
      "http://earthserver.ecmwf.int/rasdaman/ows?service=WCS&version=2.0.1&request=ProcessCoverages&query=for c in (precipitation) return encode(add(c[Lat(48.100000:48.100000), Long(16.200000:16.200000),ansi(\"1981-12-01T00:00:00\":\"1981-12-31T18:00:00\")] * 1000), \"csv\")\n",
      "http://earthserver.ecmwf.int/rasdaman/ows?service=WCS&version=2.0.1&request=ProcessCoverages&query=for c in (precipitation) return encode(add(c[Lat(48.100000:48.100000), Long(16.200000:16.200000),ansi(\"1982-01-01T00:00:00\":\"1982-01-31T18:00:00\")] * 1000), \"csv\")\n",
      "http://earthserver.ecmwf.int/rasdaman/ows?service=WCS&version=2.0.1&request=ProcessCoverages&query=for c in (precipitation) return encode(add(c[Lat(48.100000:48.100000), Long(16.200000:16.200000),ansi(\"1982-02-01T00:00:00\":\"1982-02-28T18:00:00\")] * 1000), \"csv\")\n",
      "http://earthserver.ecmwf.int/rasdaman/ows?service=WCS&version=2.0.1&request=ProcessCoverages&query=for c in (precipitation) return encode(add(c[Lat(48.100000:48.100000), Long(16.200000:16.200000),ansi(\"1982-03-01T00:00:00\":\"1982-03-31T18:00:00\")] * 1000), \"csv\")\n",
      "http://earthserver.ecmwf.int/rasdaman/ows?service=WCS&version=2.0.1&request=ProcessCoverages&query=for c in (precipitation) return encode(add(c[Lat(48.100000:48.100000), Long(16.200000:16.200000),ansi(\"1982-04-01T00:00:00\":\"1982-04-30T18:00:00\")] * 1000), \"csv\")\n",
      "http://earthserver.ecmwf.int/rasdaman/ows?service=WCS&version=2.0.1&request=ProcessCoverages&query=for c in (precipitation) return encode(add(c[Lat(48.100000:48.100000), Long(16.200000:16.200000),ansi(\"1982-05-01T00:00:00\":\"1982-05-31T18:00:00\")] * 1000), \"csv\")\n",
      "http://earthserver.ecmwf.int/rasdaman/ows?service=WCS&version=2.0.1&request=ProcessCoverages&query=for c in (precipitation) return encode(add(c[Lat(48.100000:48.100000), Long(16.200000:16.200000),ansi(\"1982-06-01T00:00:00\":\"1982-06-30T18:00:00\")] * 1000), \"csv\")\n",
      "http://earthserver.ecmwf.int/rasdaman/ows?service=WCS&version=2.0.1&request=ProcessCoverages&query=for c in (precipitation) return encode(add(c[Lat(48.100000:48.100000), Long(16.200000:16.200000),ansi(\"1982-07-01T00:00:00\":\"1982-07-31T18:00:00\")] * 1000), \"csv\")\n",
      "http://earthserver.ecmwf.int/rasdaman/ows?service=WCS&version=2.0.1&request=ProcessCoverages&query=for c in (precipitation) return encode(add(c[Lat(48.100000:48.100000), Long(16.200000:16.200000),ansi(\"1982-08-01T00:00:00\":\"1982-08-31T18:00:00\")] * 1000), \"csv\")\n",
      "http://earthserver.ecmwf.int/rasdaman/ows?service=WCS&version=2.0.1&request=ProcessCoverages&query=for c in (precipitation) return encode(add(c[Lat(48.100000:48.100000), Long(16.200000:16.200000),ansi(\"1982-09-01T00:00:00\":\"1982-09-30T18:00:00\")] * 1000), \"csv\")\n",
      "http://earthserver.ecmwf.int/rasdaman/ows?service=WCS&version=2.0.1&request=ProcessCoverages&query=for c in (precipitation) return encode(add(c[Lat(48.100000:48.100000), Long(16.200000:16.200000),ansi(\"1982-10-01T00:00:00\":\"1982-10-31T18:00:00\")] * 1000), \"csv\")\n",
      "http://earthserver.ecmwf.int/rasdaman/ows?service=WCS&version=2.0.1&request=ProcessCoverages&query=for c in (precipitation) return encode(add(c[Lat(48.100000:48.100000), Long(16.200000:16.200000),ansi(\"1982-11-01T00:00:00\":\"1982-11-30T18:00:00\")] * 1000), \"csv\")\n",
      "http://earthserver.ecmwf.int/rasdaman/ows?service=WCS&version=2.0.1&request=ProcessCoverages&query=for c in (precipitation) return encode(add(c[Lat(48.100000:48.100000), Long(16.200000:16.200000),ansi(\"1982-12-01T00:00:00\":\"1982-12-31T18:00:00\")] * 1000), \"csv\")\n",
      "http://earthserver.ecmwf.int/rasdaman/ows?service=WCS&version=2.0.1&request=ProcessCoverages&query=for c in (precipitation) return encode(add(c[Lat(48.100000:48.100000), Long(16.200000:16.200000),ansi(\"1983-01-01T00:00:00\":\"1983-01-31T18:00:00\")] * 1000), \"csv\")\n",
      "http://earthserver.ecmwf.int/rasdaman/ows?service=WCS&version=2.0.1&request=ProcessCoverages&query=for c in (precipitation) return encode(add(c[Lat(48.100000:48.100000), Long(16.200000:16.200000),ansi(\"1983-02-01T00:00:00\":\"1983-02-28T18:00:00\")] * 1000), \"csv\")\n",
      "http://earthserver.ecmwf.int/rasdaman/ows?service=WCS&version=2.0.1&request=ProcessCoverages&query=for c in (precipitation) return encode(add(c[Lat(48.100000:48.100000), Long(16.200000:16.200000),ansi(\"1983-03-01T00:00:00\":\"1983-03-31T18:00:00\")] * 1000), \"csv\")\n",
      "http://earthserver.ecmwf.int/rasdaman/ows?service=WCS&version=2.0.1&request=ProcessCoverages&query=for c in (precipitation) return encode(add(c[Lat(48.100000:48.100000), Long(16.200000:16.200000),ansi(\"1983-04-01T00:00:00\":\"1983-04-30T18:00:00\")] * 1000), \"csv\")\n",
      "http://earthserver.ecmwf.int/rasdaman/ows?service=WCS&version=2.0.1&request=ProcessCoverages&query=for c in (precipitation) return encode(add(c[Lat(48.100000:48.100000), Long(16.200000:16.200000),ansi(\"1983-05-01T00:00:00\":\"1983-05-31T18:00:00\")] * 1000), \"csv\")\n",
      "http://earthserver.ecmwf.int/rasdaman/ows?service=WCS&version=2.0.1&request=ProcessCoverages&query=for c in (precipitation) return encode(add(c[Lat(48.100000:48.100000), Long(16.200000:16.200000),ansi(\"1983-06-01T00:00:00\":\"1983-06-30T18:00:00\")] * 1000), \"csv\")\n",
      "http://earthserver.ecmwf.int/rasdaman/ows?service=WCS&version=2.0.1&request=ProcessCoverages&query=for c in (precipitation) return encode(add(c[Lat(48.100000:48.100000), Long(16.200000:16.200000),ansi(\"1983-07-01T00:00:00\":\"1983-07-31T18:00:00\")] * 1000), \"csv\")\n",
      "http://earthserver.ecmwf.int/rasdaman/ows?service=WCS&version=2.0.1&request=ProcessCoverages&query=for c in (precipitation) return encode(add(c[Lat(48.100000:48.100000), Long(16.200000:16.200000),ansi(\"1983-08-01T00:00:00\":\"1983-08-31T18:00:00\")] * 1000), \"csv\")\n"
     ]
    },
    {
     "ename": "KeyboardInterrupt",
     "evalue": "",
     "output_type": "error",
     "traceback": [
      "\u001b[0;31m---------------------------------------------------------------------------\u001b[0m",
      "\u001b[0;31mTypeError\u001b[0m                                 Traceback (most recent call last)",
      "\u001b[0;32m~/anaconda3/lib/python3.6/site-packages/urllib3/connectionpool.py\u001b[0m in \u001b[0;36m_make_request\u001b[0;34m(self, conn, method, url, timeout, chunked, **httplib_request_kw)\u001b[0m\n\u001b[1;32m    379\u001b[0m             \u001b[0;32mtry\u001b[0m\u001b[0;34m:\u001b[0m  \u001b[0;31m# Python 2.7, use buffering of HTTP responses\u001b[0m\u001b[0;34m\u001b[0m\u001b[0m\n\u001b[0;32m--> 380\u001b[0;31m                 \u001b[0mhttplib_response\u001b[0m \u001b[0;34m=\u001b[0m \u001b[0mconn\u001b[0m\u001b[0;34m.\u001b[0m\u001b[0mgetresponse\u001b[0m\u001b[0;34m(\u001b[0m\u001b[0mbuffering\u001b[0m\u001b[0;34m=\u001b[0m\u001b[0;32mTrue\u001b[0m\u001b[0;34m)\u001b[0m\u001b[0;34m\u001b[0m\u001b[0m\n\u001b[0m\u001b[1;32m    381\u001b[0m             \u001b[0;32mexcept\u001b[0m \u001b[0mTypeError\u001b[0m\u001b[0;34m:\u001b[0m  \u001b[0;31m# Python 2.6 and older, Python 3\u001b[0m\u001b[0;34m\u001b[0m\u001b[0m\n",
      "\u001b[0;31mTypeError\u001b[0m: getresponse() got an unexpected keyword argument 'buffering'",
      "\nDuring handling of the above exception, another exception occurred:\n",
      "\u001b[0;31mKeyboardInterrupt\u001b[0m                         Traceback (most recent call last)",
      "\u001b[0;32m<ipython-input-35-de81a3cb4dd6>\u001b[0m in \u001b[0;36m<module>\u001b[0;34m()\u001b[0m\n\u001b[1;32m      3\u001b[0m \u001b[0mlonMin\u001b[0m \u001b[0;34m=\u001b[0m \u001b[0;36m16.2\u001b[0m\u001b[0;34m\u001b[0m\u001b[0m\n\u001b[1;32m      4\u001b[0m \u001b[0mlonMax\u001b[0m \u001b[0;34m=\u001b[0m \u001b[0;36m16.2\u001b[0m\u001b[0;34m\u001b[0m\u001b[0m\n\u001b[0;32m----> 5\u001b[0;31m \u001b[0mmonthlyTS_sum\u001b[0m \u001b[0;34m=\u001b[0m \u001b[0mretrieveFromWCS\u001b[0m\u001b[0;34m(\u001b[0m\u001b[0;34m\"precipitation\"\u001b[0m\u001b[0;34m,\u001b[0m \u001b[0;34m\"add\"\u001b[0m\u001b[0;34m,\u001b[0m \u001b[0mlatMin\u001b[0m\u001b[0;34m,\u001b[0m \u001b[0mlatMax\u001b[0m\u001b[0;34m,\u001b[0m \u001b[0mlonMin\u001b[0m\u001b[0;34m,\u001b[0m \u001b[0mlonMax\u001b[0m\u001b[0;34m)\u001b[0m\u001b[0;34m\u001b[0m\u001b[0m\n\u001b[0m",
      "\u001b[0;32m<ipython-input-33-b7381c118b97>\u001b[0m in \u001b[0;36mretrieveFromWCS\u001b[0;34m(param, operation, latMin, latMax, lonMin, lonMax)\u001b[0m\n\u001b[1;32m     13\u001b[0m         \u001b[0mprint\u001b[0m \u001b[0;34m(\u001b[0m\u001b[0murl\u001b[0m\u001b[0;34m)\u001b[0m\u001b[0;34m\u001b[0m\u001b[0m\n\u001b[1;32m     14\u001b[0m         r= requests.get(url,\n\u001b[0;32m---> 15\u001b[0;31m                 \u001b[0mproxies\u001b[0m\u001b[0;34m=\u001b[0m\u001b[0;34m{\u001b[0m\u001b[0;34m'http'\u001b[0m\u001b[0;34m:\u001b[0m\u001b[0;32mNone\u001b[0m\u001b[0;34m}\u001b[0m\u001b[0;34m\u001b[0m\u001b[0m\n\u001b[0m\u001b[1;32m     16\u001b[0m                 )\n\u001b[1;32m     17\u001b[0m \u001b[0;34m\u001b[0m\u001b[0m\n",
      "\u001b[0;32m~/anaconda3/lib/python3.6/site-packages/requests/api.py\u001b[0m in \u001b[0;36mget\u001b[0;34m(url, params, **kwargs)\u001b[0m\n\u001b[1;32m     70\u001b[0m \u001b[0;34m\u001b[0m\u001b[0m\n\u001b[1;32m     71\u001b[0m     \u001b[0mkwargs\u001b[0m\u001b[0;34m.\u001b[0m\u001b[0msetdefault\u001b[0m\u001b[0;34m(\u001b[0m\u001b[0;34m'allow_redirects'\u001b[0m\u001b[0;34m,\u001b[0m \u001b[0;32mTrue\u001b[0m\u001b[0;34m)\u001b[0m\u001b[0;34m\u001b[0m\u001b[0m\n\u001b[0;32m---> 72\u001b[0;31m     \u001b[0;32mreturn\u001b[0m \u001b[0mrequest\u001b[0m\u001b[0;34m(\u001b[0m\u001b[0;34m'get'\u001b[0m\u001b[0;34m,\u001b[0m \u001b[0murl\u001b[0m\u001b[0;34m,\u001b[0m \u001b[0mparams\u001b[0m\u001b[0;34m=\u001b[0m\u001b[0mparams\u001b[0m\u001b[0;34m,\u001b[0m \u001b[0;34m**\u001b[0m\u001b[0mkwargs\u001b[0m\u001b[0;34m)\u001b[0m\u001b[0;34m\u001b[0m\u001b[0m\n\u001b[0m\u001b[1;32m     73\u001b[0m \u001b[0;34m\u001b[0m\u001b[0m\n\u001b[1;32m     74\u001b[0m \u001b[0;34m\u001b[0m\u001b[0m\n",
      "\u001b[0;32m~/anaconda3/lib/python3.6/site-packages/requests/api.py\u001b[0m in \u001b[0;36mrequest\u001b[0;34m(method, url, **kwargs)\u001b[0m\n\u001b[1;32m     56\u001b[0m     \u001b[0;31m# cases, and look like a memory leak in others.\u001b[0m\u001b[0;34m\u001b[0m\u001b[0;34m\u001b[0m\u001b[0m\n\u001b[1;32m     57\u001b[0m     \u001b[0;32mwith\u001b[0m \u001b[0msessions\u001b[0m\u001b[0;34m.\u001b[0m\u001b[0mSession\u001b[0m\u001b[0;34m(\u001b[0m\u001b[0;34m)\u001b[0m \u001b[0;32mas\u001b[0m \u001b[0msession\u001b[0m\u001b[0;34m:\u001b[0m\u001b[0;34m\u001b[0m\u001b[0m\n\u001b[0;32m---> 58\u001b[0;31m         \u001b[0;32mreturn\u001b[0m \u001b[0msession\u001b[0m\u001b[0;34m.\u001b[0m\u001b[0mrequest\u001b[0m\u001b[0;34m(\u001b[0m\u001b[0mmethod\u001b[0m\u001b[0;34m=\u001b[0m\u001b[0mmethod\u001b[0m\u001b[0;34m,\u001b[0m \u001b[0murl\u001b[0m\u001b[0;34m=\u001b[0m\u001b[0murl\u001b[0m\u001b[0;34m,\u001b[0m \u001b[0;34m**\u001b[0m\u001b[0mkwargs\u001b[0m\u001b[0;34m)\u001b[0m\u001b[0;34m\u001b[0m\u001b[0m\n\u001b[0m\u001b[1;32m     59\u001b[0m \u001b[0;34m\u001b[0m\u001b[0m\n\u001b[1;32m     60\u001b[0m \u001b[0;34m\u001b[0m\u001b[0m\n",
      "\u001b[0;32m~/anaconda3/lib/python3.6/site-packages/requests/sessions.py\u001b[0m in \u001b[0;36mrequest\u001b[0;34m(self, method, url, params, data, headers, cookies, files, auth, timeout, allow_redirects, proxies, hooks, stream, verify, cert, json)\u001b[0m\n\u001b[1;32m    506\u001b[0m         }\n\u001b[1;32m    507\u001b[0m         \u001b[0msend_kwargs\u001b[0m\u001b[0;34m.\u001b[0m\u001b[0mupdate\u001b[0m\u001b[0;34m(\u001b[0m\u001b[0msettings\u001b[0m\u001b[0;34m)\u001b[0m\u001b[0;34m\u001b[0m\u001b[0m\n\u001b[0;32m--> 508\u001b[0;31m         \u001b[0mresp\u001b[0m \u001b[0;34m=\u001b[0m \u001b[0mself\u001b[0m\u001b[0;34m.\u001b[0m\u001b[0msend\u001b[0m\u001b[0;34m(\u001b[0m\u001b[0mprep\u001b[0m\u001b[0;34m,\u001b[0m \u001b[0;34m**\u001b[0m\u001b[0msend_kwargs\u001b[0m\u001b[0;34m)\u001b[0m\u001b[0;34m\u001b[0m\u001b[0m\n\u001b[0m\u001b[1;32m    509\u001b[0m \u001b[0;34m\u001b[0m\u001b[0m\n\u001b[1;32m    510\u001b[0m         \u001b[0;32mreturn\u001b[0m \u001b[0mresp\u001b[0m\u001b[0;34m\u001b[0m\u001b[0m\n",
      "\u001b[0;32m~/anaconda3/lib/python3.6/site-packages/requests/sessions.py\u001b[0m in \u001b[0;36msend\u001b[0;34m(self, request, **kwargs)\u001b[0m\n\u001b[1;32m    616\u001b[0m \u001b[0;34m\u001b[0m\u001b[0m\n\u001b[1;32m    617\u001b[0m         \u001b[0;31m# Send the request\u001b[0m\u001b[0;34m\u001b[0m\u001b[0;34m\u001b[0m\u001b[0m\n\u001b[0;32m--> 618\u001b[0;31m         \u001b[0mr\u001b[0m \u001b[0;34m=\u001b[0m \u001b[0madapter\u001b[0m\u001b[0;34m.\u001b[0m\u001b[0msend\u001b[0m\u001b[0;34m(\u001b[0m\u001b[0mrequest\u001b[0m\u001b[0;34m,\u001b[0m \u001b[0;34m**\u001b[0m\u001b[0mkwargs\u001b[0m\u001b[0;34m)\u001b[0m\u001b[0;34m\u001b[0m\u001b[0m\n\u001b[0m\u001b[1;32m    619\u001b[0m \u001b[0;34m\u001b[0m\u001b[0m\n\u001b[1;32m    620\u001b[0m         \u001b[0;31m# Total elapsed time of the request (approximately)\u001b[0m\u001b[0;34m\u001b[0m\u001b[0;34m\u001b[0m\u001b[0m\n",
      "\u001b[0;32m~/anaconda3/lib/python3.6/site-packages/requests/adapters.py\u001b[0m in \u001b[0;36msend\u001b[0;34m(self, request, stream, timeout, verify, cert, proxies)\u001b[0m\n\u001b[1;32m    438\u001b[0m                     \u001b[0mdecode_content\u001b[0m\u001b[0;34m=\u001b[0m\u001b[0;32mFalse\u001b[0m\u001b[0;34m,\u001b[0m\u001b[0;34m\u001b[0m\u001b[0m\n\u001b[1;32m    439\u001b[0m                     \u001b[0mretries\u001b[0m\u001b[0;34m=\u001b[0m\u001b[0mself\u001b[0m\u001b[0;34m.\u001b[0m\u001b[0mmax_retries\u001b[0m\u001b[0;34m,\u001b[0m\u001b[0;34m\u001b[0m\u001b[0m\n\u001b[0;32m--> 440\u001b[0;31m                     \u001b[0mtimeout\u001b[0m\u001b[0;34m=\u001b[0m\u001b[0mtimeout\u001b[0m\u001b[0;34m\u001b[0m\u001b[0m\n\u001b[0m\u001b[1;32m    441\u001b[0m                 )\n\u001b[1;32m    442\u001b[0m \u001b[0;34m\u001b[0m\u001b[0m\n",
      "\u001b[0;32m~/anaconda3/lib/python3.6/site-packages/urllib3/connectionpool.py\u001b[0m in \u001b[0;36murlopen\u001b[0;34m(self, method, url, body, headers, retries, redirect, assert_same_host, timeout, pool_timeout, release_conn, chunked, body_pos, **response_kw)\u001b[0m\n\u001b[1;32m    599\u001b[0m                                                   \u001b[0mtimeout\u001b[0m\u001b[0;34m=\u001b[0m\u001b[0mtimeout_obj\u001b[0m\u001b[0;34m,\u001b[0m\u001b[0;34m\u001b[0m\u001b[0m\n\u001b[1;32m    600\u001b[0m                                                   \u001b[0mbody\u001b[0m\u001b[0;34m=\u001b[0m\u001b[0mbody\u001b[0m\u001b[0;34m,\u001b[0m \u001b[0mheaders\u001b[0m\u001b[0;34m=\u001b[0m\u001b[0mheaders\u001b[0m\u001b[0;34m,\u001b[0m\u001b[0;34m\u001b[0m\u001b[0m\n\u001b[0;32m--> 601\u001b[0;31m                                                   chunked=chunked)\n\u001b[0m\u001b[1;32m    602\u001b[0m \u001b[0;34m\u001b[0m\u001b[0m\n\u001b[1;32m    603\u001b[0m             \u001b[0;31m# If we're going to release the connection in ``finally:``, then\u001b[0m\u001b[0;34m\u001b[0m\u001b[0;34m\u001b[0m\u001b[0m\n",
      "\u001b[0;32m~/anaconda3/lib/python3.6/site-packages/urllib3/connectionpool.py\u001b[0m in \u001b[0;36m_make_request\u001b[0;34m(self, conn, method, url, timeout, chunked, **httplib_request_kw)\u001b[0m\n\u001b[1;32m    381\u001b[0m             \u001b[0;32mexcept\u001b[0m \u001b[0mTypeError\u001b[0m\u001b[0;34m:\u001b[0m  \u001b[0;31m# Python 2.6 and older, Python 3\u001b[0m\u001b[0;34m\u001b[0m\u001b[0m\n\u001b[1;32m    382\u001b[0m                 \u001b[0;32mtry\u001b[0m\u001b[0;34m:\u001b[0m\u001b[0;34m\u001b[0m\u001b[0m\n\u001b[0;32m--> 383\u001b[0;31m                     \u001b[0mhttplib_response\u001b[0m \u001b[0;34m=\u001b[0m \u001b[0mconn\u001b[0m\u001b[0;34m.\u001b[0m\u001b[0mgetresponse\u001b[0m\u001b[0;34m(\u001b[0m\u001b[0;34m)\u001b[0m\u001b[0;34m\u001b[0m\u001b[0m\n\u001b[0m\u001b[1;32m    384\u001b[0m                 \u001b[0;32mexcept\u001b[0m \u001b[0mException\u001b[0m \u001b[0;32mas\u001b[0m \u001b[0me\u001b[0m\u001b[0;34m:\u001b[0m\u001b[0;34m\u001b[0m\u001b[0m\n\u001b[1;32m    385\u001b[0m                     \u001b[0;31m# Remove the TypeError from the exception chain in Python 3;\u001b[0m\u001b[0;34m\u001b[0m\u001b[0;34m\u001b[0m\u001b[0m\n",
      "\u001b[0;32m~/anaconda3/lib/python3.6/http/client.py\u001b[0m in \u001b[0;36mgetresponse\u001b[0;34m(self)\u001b[0m\n\u001b[1;32m   1329\u001b[0m         \u001b[0;32mtry\u001b[0m\u001b[0;34m:\u001b[0m\u001b[0;34m\u001b[0m\u001b[0m\n\u001b[1;32m   1330\u001b[0m             \u001b[0;32mtry\u001b[0m\u001b[0;34m:\u001b[0m\u001b[0;34m\u001b[0m\u001b[0m\n\u001b[0;32m-> 1331\u001b[0;31m                 \u001b[0mresponse\u001b[0m\u001b[0;34m.\u001b[0m\u001b[0mbegin\u001b[0m\u001b[0;34m(\u001b[0m\u001b[0;34m)\u001b[0m\u001b[0;34m\u001b[0m\u001b[0m\n\u001b[0m\u001b[1;32m   1332\u001b[0m             \u001b[0;32mexcept\u001b[0m \u001b[0mConnectionError\u001b[0m\u001b[0;34m:\u001b[0m\u001b[0;34m\u001b[0m\u001b[0m\n\u001b[1;32m   1333\u001b[0m                 \u001b[0mself\u001b[0m\u001b[0;34m.\u001b[0m\u001b[0mclose\u001b[0m\u001b[0;34m(\u001b[0m\u001b[0;34m)\u001b[0m\u001b[0;34m\u001b[0m\u001b[0m\n",
      "\u001b[0;32m~/anaconda3/lib/python3.6/http/client.py\u001b[0m in \u001b[0;36mbegin\u001b[0;34m(self)\u001b[0m\n\u001b[1;32m    295\u001b[0m         \u001b[0;31m# read until we get a non-100 response\u001b[0m\u001b[0;34m\u001b[0m\u001b[0;34m\u001b[0m\u001b[0m\n\u001b[1;32m    296\u001b[0m         \u001b[0;32mwhile\u001b[0m \u001b[0;32mTrue\u001b[0m\u001b[0;34m:\u001b[0m\u001b[0;34m\u001b[0m\u001b[0m\n\u001b[0;32m--> 297\u001b[0;31m             \u001b[0mversion\u001b[0m\u001b[0;34m,\u001b[0m \u001b[0mstatus\u001b[0m\u001b[0;34m,\u001b[0m \u001b[0mreason\u001b[0m \u001b[0;34m=\u001b[0m \u001b[0mself\u001b[0m\u001b[0;34m.\u001b[0m\u001b[0m_read_status\u001b[0m\u001b[0;34m(\u001b[0m\u001b[0;34m)\u001b[0m\u001b[0;34m\u001b[0m\u001b[0m\n\u001b[0m\u001b[1;32m    298\u001b[0m             \u001b[0;32mif\u001b[0m \u001b[0mstatus\u001b[0m \u001b[0;34m!=\u001b[0m \u001b[0mCONTINUE\u001b[0m\u001b[0;34m:\u001b[0m\u001b[0;34m\u001b[0m\u001b[0m\n\u001b[1;32m    299\u001b[0m                 \u001b[0;32mbreak\u001b[0m\u001b[0;34m\u001b[0m\u001b[0m\n",
      "\u001b[0;32m~/anaconda3/lib/python3.6/http/client.py\u001b[0m in \u001b[0;36m_read_status\u001b[0;34m(self)\u001b[0m\n\u001b[1;32m    256\u001b[0m \u001b[0;34m\u001b[0m\u001b[0m\n\u001b[1;32m    257\u001b[0m     \u001b[0;32mdef\u001b[0m \u001b[0m_read_status\u001b[0m\u001b[0;34m(\u001b[0m\u001b[0mself\u001b[0m\u001b[0;34m)\u001b[0m\u001b[0;34m:\u001b[0m\u001b[0;34m\u001b[0m\u001b[0m\n\u001b[0;32m--> 258\u001b[0;31m         \u001b[0mline\u001b[0m \u001b[0;34m=\u001b[0m \u001b[0mstr\u001b[0m\u001b[0;34m(\u001b[0m\u001b[0mself\u001b[0m\u001b[0;34m.\u001b[0m\u001b[0mfp\u001b[0m\u001b[0;34m.\u001b[0m\u001b[0mreadline\u001b[0m\u001b[0;34m(\u001b[0m\u001b[0m_MAXLINE\u001b[0m \u001b[0;34m+\u001b[0m \u001b[0;36m1\u001b[0m\u001b[0;34m)\u001b[0m\u001b[0;34m,\u001b[0m \u001b[0;34m\"iso-8859-1\"\u001b[0m\u001b[0;34m)\u001b[0m\u001b[0;34m\u001b[0m\u001b[0m\n\u001b[0m\u001b[1;32m    259\u001b[0m         \u001b[0;32mif\u001b[0m \u001b[0mlen\u001b[0m\u001b[0;34m(\u001b[0m\u001b[0mline\u001b[0m\u001b[0;34m)\u001b[0m \u001b[0;34m>\u001b[0m \u001b[0m_MAXLINE\u001b[0m\u001b[0;34m:\u001b[0m\u001b[0;34m\u001b[0m\u001b[0m\n\u001b[1;32m    260\u001b[0m             \u001b[0;32mraise\u001b[0m \u001b[0mLineTooLong\u001b[0m\u001b[0;34m(\u001b[0m\u001b[0;34m\"status line\"\u001b[0m\u001b[0;34m)\u001b[0m\u001b[0;34m\u001b[0m\u001b[0m\n",
      "\u001b[0;32m~/anaconda3/lib/python3.6/socket.py\u001b[0m in \u001b[0;36mreadinto\u001b[0;34m(self, b)\u001b[0m\n\u001b[1;32m    584\u001b[0m         \u001b[0;32mwhile\u001b[0m \u001b[0;32mTrue\u001b[0m\u001b[0;34m:\u001b[0m\u001b[0;34m\u001b[0m\u001b[0m\n\u001b[1;32m    585\u001b[0m             \u001b[0;32mtry\u001b[0m\u001b[0;34m:\u001b[0m\u001b[0;34m\u001b[0m\u001b[0m\n\u001b[0;32m--> 586\u001b[0;31m                 \u001b[0;32mreturn\u001b[0m \u001b[0mself\u001b[0m\u001b[0;34m.\u001b[0m\u001b[0m_sock\u001b[0m\u001b[0;34m.\u001b[0m\u001b[0mrecv_into\u001b[0m\u001b[0;34m(\u001b[0m\u001b[0mb\u001b[0m\u001b[0;34m)\u001b[0m\u001b[0;34m\u001b[0m\u001b[0m\n\u001b[0m\u001b[1;32m    587\u001b[0m             \u001b[0;32mexcept\u001b[0m \u001b[0mtimeout\u001b[0m\u001b[0;34m:\u001b[0m\u001b[0;34m\u001b[0m\u001b[0m\n\u001b[1;32m    588\u001b[0m                 \u001b[0mself\u001b[0m\u001b[0;34m.\u001b[0m\u001b[0m_timeout_occurred\u001b[0m \u001b[0;34m=\u001b[0m \u001b[0;32mTrue\u001b[0m\u001b[0;34m\u001b[0m\u001b[0m\n",
      "\u001b[0;31mKeyboardInterrupt\u001b[0m: "
     ]
    }
   ],
   "source": [
    "latMin = 48.1\n",
    "latMax = 48.1\n",
    "lonMin = 16.2\n",
    "lonMax = 16.2\n",
    "monthlyTS_sum = retrieveFromWCS(\"precipitation\", \"add\", latMin, latMax, lonMin, lonMax)"
   ]
  },
  {
   "cell_type": "markdown",
   "metadata": {
    "slideshow": {
     "slide_type": "slide"
    }
   },
   "source": [
    "### Workflow step (3): <br> \n",
    "## <a font-color=\"blue\">Calculate averages for every month for every parameter</a>"
   ]
  },
  {
   "cell_type": "code",
   "execution_count": 36,
   "metadata": {},
   "outputs": [
    {
     "ename": "NameError",
     "evalue": "name 'monthlyTS_avg' is not defined",
     "output_type": "error",
     "traceback": [
      "\u001b[0;31m---------------------------------------------------------------------------\u001b[0m",
      "\u001b[0;31mNameError\u001b[0m                                 Traceback (most recent call last)",
      "\u001b[0;32m<ipython-input-36-b971e20296be>\u001b[0m in \u001b[0;36m<module>\u001b[0;34m()\u001b[0m\n\u001b[1;32m      6\u001b[0m     \u001b[0;32mreturn\u001b[0m \u001b[0mtmp\u001b[0m\u001b[0;34m\u001b[0m\u001b[0m\n\u001b[1;32m      7\u001b[0m \u001b[0;34m\u001b[0m\u001b[0m\n\u001b[0;32m----> 8\u001b[0;31m \u001b[0mmonthsAvg\u001b[0m \u001b[0;34m=\u001b[0m \u001b[0mcalculateMonthlyAvgTS\u001b[0m\u001b[0;34m(\u001b[0m\u001b[0mmonthlyTS_avg\u001b[0m\u001b[0;34m)\u001b[0m\u001b[0;34m\u001b[0m\u001b[0m\n\u001b[0m\u001b[1;32m      9\u001b[0m \u001b[0mmonthsMax\u001b[0m \u001b[0;34m=\u001b[0m \u001b[0mcalculateMonthlyAvgTS\u001b[0m\u001b[0;34m(\u001b[0m\u001b[0mmonthlyTS_max\u001b[0m\u001b[0;34m)\u001b[0m\u001b[0;34m\u001b[0m\u001b[0m\n\u001b[1;32m     10\u001b[0m \u001b[0mmonthsMin\u001b[0m \u001b[0;34m=\u001b[0m \u001b[0mcalculateMonthlyAvgTS\u001b[0m\u001b[0;34m(\u001b[0m\u001b[0mmonthlyTS_min\u001b[0m\u001b[0;34m)\u001b[0m\u001b[0;34m\u001b[0m\u001b[0m\n",
      "\u001b[0;31mNameError\u001b[0m: name 'monthlyTS_avg' is not defined"
     ]
    }
   ],
   "source": [
    "def calculateMonthlyAvgTS (inputArray):\n",
    "    tmp = np.empty((12))\n",
    "    for i in range(0,12):\n",
    "        month = inputArray[i::12]\n",
    "        tmp[i] = np.mean(month, axis=0)\n",
    "    return tmp\n",
    "\n",
    "monthsAvg = calculateMonthlyAvgTS(monthlyTS_avg)\n",
    "monthsMax = calculateMonthlyAvgTS(monthlyTS_max)\n",
    "monthsMin = calculateMonthlyAvgTS(monthlyTS_min)\n",
    "monthsAvg_precip = calculateMonthlyAvgTS(monthlyTS_sum)"
   ]
  },
  {
   "cell_type": "markdown",
   "metadata": {
    "slideshow": {
     "slide_type": "slide"
    }
   },
   "source": [
    "### Workflow step (4): <br>\n",
    "## <a font-color=\"blue\">Plot the climate graph for Vienna I</a>"
   ]
  },
  {
   "cell_type": "code",
   "execution_count": null,
   "metadata": {
    "collapsed": true,
    "slideshow": {
     "slide_type": "-"
    }
   },
   "outputs": [],
   "source": [
    "# Prepare pandas data frame for plotting\n",
    "df = pandas.DataFrame(months, columns=['Month'])\n",
    "df['temp_avg'] = pandas.Series(monthsAvg, index=df.index)\n",
    "df['temp_max'] = pandas.Series(monthsMax, index=df.index)\n",
    "df['temp_min'] = pandas.Series(monthsMin, index=df.index)\n",
    "df['precip_avg'] =pandas.Series(monthsAvg_precip, index=df.index)"
   ]
  },
  {
   "cell_type": "markdown",
   "metadata": {
    "slideshow": {
     "slide_type": "slide"
    }
   },
   "source": [
    "### Workflow step (4): <br>\n",
    "## <a font-color=\"blue\">Plot the climate graph for Vienna II</a>"
   ]
  },
  {
   "cell_type": "code",
   "execution_count": null,
   "metadata": {
    "collapsed": true,
    "slideshow": {
     "slide_type": "-"
    }
   },
   "outputs": [],
   "source": [
    "ax1 = df[['Month','precip_avg']].plot(x='Month',kind='bar',color='#D3D3D3', \n",
    "                                      legend=False, figsize=(12,9), fontsize=12)\n",
    "ax2 = ax1.twinx()\n",
    "months = ['Jan','Feb','Mar','Apr','May','Jun','Jul','Aug','Sep','Oct','Nov','Dec']\n",
    "columns = [\"temp_avg\", \"temp_max\", \"temp_min\"]\n",
    "\n",
    "ax1.yaxis.tick_right()\n",
    "ax2.yaxis.tick_left()\n",
    "ax1.set_title(\"Climate graph for Vienna\", fontsize=20)\n",
    "ax1.set_xlabel(\"Month\", fontsize=14)\n",
    "ax2.set_ylabel(\"mm\", labelpad=35, y=0.45, fontsize=14)\n",
    "ax1.set_ylabel(\"degC\", labelpad=35, y=0.45,fontsize=14)\n",
    "\n",
    "df[['Month', 'temp_avg']].plot(x='Month',linestyle='-',marker='o', ax=ax2,color='black', legend=False)\n",
    "df[['Month', 'temp_max']].plot(x='Month', linestyle='-',marker='o',ax=ax2,color='darkred',legend=False)\n",
    "df[['Month', 'temp_min']].plot(x='Month', linestyle='-',marker='o',ax=ax2,color='darkblue', legend=False)\n",
    "\n",
    "plt.tick_params(axis='both', which='major', labelsize=14)\n",
    "ax1.tick_params(axis='both', which='major', labelsize=14)\n",
    "\n",
    "plt.show()"
   ]
  },
  {
   "cell_type": "markdown",
   "metadata": {
    "slideshow": {
     "slide_type": "slide"
    }
   },
   "source": [
    "<img src=\"img/logos_combined.png\" alt=\"EarthServer-logo\" align=\"right\" width=\"40%\"  border=\"4\">\n",
    "<br><br><br><br>\n",
    "\n",
    "# Conclusion\n",
    "\n",
    "* more than 50 GB of data were accessed and processed on demand\n",
    "<br>\n",
    "\n",
    "* time-series information were extracted from a multi-dimensional data set\n",
    "<br>\n",
    "\n",
    "* no data was downloaded\n"
   ]
  }
 ],
 "metadata": {
  "celltoolbar": "Slideshow",
  "kernelspec": {
   "display_name": "Python 3",
   "language": "python",
   "name": "python3"
  },
  "language_info": {
   "codemirror_mode": {
    "name": "ipython",
    "version": 3
   },
   "file_extension": ".py",
   "mimetype": "text/x-python",
   "name": "python",
   "nbconvert_exporter": "python",
   "pygments_lexer": "ipython3",
   "version": "3.6.3"
  }
 },
 "nbformat": 4,
 "nbformat_minor": 1
}
